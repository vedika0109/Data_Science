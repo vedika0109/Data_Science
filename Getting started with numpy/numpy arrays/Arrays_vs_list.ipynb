{
  "nbformat": 4,
  "nbformat_minor": 0,
  "metadata": {
    "colab": {
      "provenance": []
    },
    "kernelspec": {
      "name": "python3",
      "display_name": "Python 3"
    },
    "language_info": {
      "name": "python"
    }
  },
  "cells": [
    {
      "cell_type": "code",
      "execution_count": null,
      "metadata": {
        "id": "QELAZav4r0C5"
      },
      "outputs": [],
      "source": [
        "import numpy as np"
      ]
    },
    {
      "cell_type": "markdown",
      "source": [
        "1.Arrays vs list comparison"
      ],
      "metadata": {
        "id": "OS5z0PMir7kI"
      }
    },
    {
      "cell_type": "code",
      "source": [
        "lst=[1,2,3]\n",
        "print(lst)\n",
        "print(type(lst))\n",
        "print('-------')\n",
        "arr=np.array([1,3,2])\n",
        "print(arr)\n",
        "print(type(arr))\n",
        "print('-------')\n",
        "print(arr == lst)\n",
        "print(arr.tolist()== lst)\n",
        " #list only compares value not with other list and return true aur false but when one list is compared to array then it returns true or false with every element\n",
        "print(sorted(arr)==sorted(lst))\n",
        "\n"
      ],
      "metadata": {
        "colab": {
          "base_uri": "https://localhost:8080/"
        },
        "id": "ua-6-pgRr_Zj",
        "outputId": "f2c5fbd5-4550-46b2-b92b-5e41e8b6293c"
      },
      "execution_count": null,
      "outputs": [
        {
          "output_type": "stream",
          "name": "stdout",
          "text": [
            "[1, 2, 3]\n",
            "<class 'list'>\n",
            "-------\n",
            "[1 3 2]\n",
            "<class 'numpy.ndarray'>\n",
            "-------\n",
            "[ True False False]\n",
            "False\n",
            "True\n"
          ]
        }
      ]
    },
    {
      "cell_type": "markdown",
      "source": [
        "2.Adding elements in an Array vs list"
      ],
      "metadata": {
        "id": "iiLp5tXryygS"
      }
    },
    {
      "cell_type": "code",
      "source": [
        "lst=[1,2,3]\n",
        "arr=np.array([1,2,3])\n",
        "print(lst)\n",
        "lst.append(4)\n",
        "print(lst)\n",
        "print('------')\n",
        "print(arr)\n",
        "arr=np.append(arr,4)\n",
        "print(arr)"
      ],
      "metadata": {
        "colab": {
          "base_uri": "https://localhost:8080/"
        },
        "id": "IgDsJPywy_hr",
        "outputId": "1bf46a5c-0f7b-4039-bd6c-941e844e945a"
      },
      "execution_count": null,
      "outputs": [
        {
          "output_type": "stream",
          "name": "stdout",
          "text": [
            "[1, 2, 3]\n",
            "[1, 2, 3, 4]\n",
            "------\n",
            "[1 2 3]\n",
            "[1 2 3 4]\n"
          ]
        }
      ]
    },
    {
      "cell_type": "markdown",
      "source": [
        "3.Removing elements in an Array vs list"
      ],
      "metadata": {
        "id": "1rgFos9P4PSa"
      }
    },
    {
      "cell_type": "code",
      "source": [
        "lst=[1,2,3]\n",
        "arr=np.array([1,2,3])\n",
        "print(lst)\n",
        "lst.pop()\n",
        "#del lst[-1]\n",
        "print(lst)\n",
        "print('------')\n",
        "print(arr)\n",
        "arr=np.delete(arr,-2)\n",
        "print(arr)"
      ],
      "metadata": {
        "colab": {
          "base_uri": "https://localhost:8080/"
        },
        "id": "BOE3SS7T4ZVG",
        "outputId": "61a5c86f-36f9-410f-f6ea-7091d46a8f9c"
      },
      "execution_count": null,
      "outputs": [
        {
          "output_type": "stream",
          "name": "stdout",
          "text": [
            "[1, 2, 3]\n",
            "[1, 2]\n",
            "------\n",
            "[1 2 3]\n",
            "[1 3]\n"
          ]
        }
      ]
    },
    {
      "cell_type": "markdown",
      "source": [
        "4.Updating elements in an Array vs list(elements are updated to list with removal of element at mentioned index)"
      ],
      "metadata": {
        "id": "NcyEn5g46Qr2"
      }
    },
    {
      "cell_type": "code",
      "source": [
        "lst=[1,2,3]\n",
        "print(lst)\n",
        "lst[-1]=4\n",
        "lst[-2]=5\n",
        "print(lst)\n",
        "\n",
        "arr=np.array([1,2,3])\n",
        "print(arr)\n",
        "arr[-1]=9\n",
        "arr[-2]=7\n",
        "print(arr)"
      ],
      "metadata": {
        "colab": {
          "base_uri": "https://localhost:8080/"
        },
        "id": "f2Pc3Z3t6Ypw",
        "outputId": "375a7ce1-af01-46c8-b344-2695df75779f"
      },
      "execution_count": null,
      "outputs": [
        {
          "output_type": "stream",
          "name": "stdout",
          "text": [
            "[1, 2, 3]\n",
            "[1, 5, 4]\n",
            "[1 2 3]\n",
            "[1 7 9]\n"
          ]
        }
      ]
    },
    {
      "cell_type": "markdown",
      "source": [
        "5.Array vs list comparison"
      ],
      "metadata": {
        "id": "G4JHWFcK9g-i"
      }
    },
    {
      "cell_type": "code",
      "source": [
        "import time\n",
        "my_list=list(range(1000000))\n",
        "my_array=np.arange(1000000)\n",
        "#search time for list\n",
        "start_time=time.time()\n",
        "for _ in range(100):\n",
        "  if 5000000 in my_list:\n",
        "    pass\n",
        "end_time=time.time()\n",
        "print('list:',end_time-start_time)\n",
        "print('-------')\n",
        "\n",
        "#search time for array\n",
        "start_time=time.time()\n",
        "for _ in range(100):\n",
        "  if 5000000 in my_array:\n",
        "    pass\n",
        "end_time=time.time()\n",
        "print('array:',end_time-start_time)\n",
        "\n",
        "\n",
        "print(len(my_list))\n",
        "print(len(my_array))\n"
      ],
      "metadata": {
        "colab": {
          "base_uri": "https://localhost:8080/"
        },
        "id": "SgYIEJWp9oNp",
        "outputId": "95ed45b2-83a2-4dac-a744-9a043f03e48b"
      },
      "execution_count": null,
      "outputs": [
        {
          "output_type": "stream",
          "name": "stdout",
          "text": [
            "list: 1.6328885555267334\n",
            "-------\n",
            "array: 0.06655097007751465\n",
            "1000000\n",
            "1000000\n"
          ]
        }
      ]
    },
    {
      "cell_type": "code",
      "source": [
        "time.time()"
      ],
      "metadata": {
        "colab": {
          "base_uri": "https://localhost:8080/"
        },
        "id": "dff49R9r-m5D",
        "outputId": "5fd59510-bccb-46ac-8ac1-72fb48daa98f"
      },
      "execution_count": null,
      "outputs": [
        {
          "output_type": "execute_result",
          "data": {
            "text/plain": [
              "1723959251.981858"
            ]
          },
          "metadata": {},
          "execution_count": 30
        }
      ]
    }
  ]
}