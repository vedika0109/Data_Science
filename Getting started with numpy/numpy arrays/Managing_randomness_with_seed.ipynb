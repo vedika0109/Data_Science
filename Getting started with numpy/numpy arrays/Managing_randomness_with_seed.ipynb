{
  "nbformat": 4,
  "nbformat_minor": 0,
  "metadata": {
    "colab": {
      "provenance": []
    },
    "kernelspec": {
      "name": "python3",
      "display_name": "Python 3"
    },
    "language_info": {
      "name": "python"
    }
  },
  "cells": [
    {
      "cell_type": "code",
      "execution_count": null,
      "metadata": {
        "id": "BZ1gwkCyOYhd"
      },
      "outputs": [],
      "source": [
        "import numpy as np"
      ]
    },
    {
      "cell_type": "code",
      "source": [
        "print(np.random.rand())\n",
        "print(np.random.rand(3))\n",
        "print(np.random.randint(10))\n",
        "print(np.random.randint(10,size=(3,5)))\n"
      ],
      "metadata": {
        "colab": {
          "base_uri": "https://localhost:8080/"
        },
        "id": "fsERWpETUzsS",
        "outputId": "304576f5-6877-4f0b-f22c-1ef26994beb1"
      },
      "execution_count": null,
      "outputs": [
        {
          "output_type": "stream",
          "name": "stdout",
          "text": [
            "0.33584584422493025\n",
            "[0.17040201 0.80640336 0.6501623 ]\n",
            "3\n",
            "[[0 6 2 1 0]\n",
            " [2 3 3 4 9]\n",
            " [3 5 7 6 3]]\n"
          ]
        }
      ]
    },
    {
      "cell_type": "markdown",
      "source": [
        "with seed randomness can be managed different iterations will have same value"
      ],
      "metadata": {
        "id": "i08LEMq6VpoF"
      }
    },
    {
      "cell_type": "code",
      "source": [
        "np.random.seed(2)\n",
        "print(np.random.rand())\n",
        "print(np.random.rand(3))\n",
        "print(np.random.randint(10))\n",
        "print(np.random.randint(10,size=(3,5)))"
      ],
      "metadata": {
        "colab": {
          "base_uri": "https://localhost:8080/"
        },
        "id": "LtfL05JtVaiJ",
        "outputId": "eed9e820-6d61-4bb2-f723-c905bfcbcc82"
      },
      "execution_count": null,
      "outputs": [
        {
          "output_type": "stream",
          "name": "stdout",
          "text": [
            "0.43599490214200376\n",
            "[0.02592623 0.54966248 0.43532239]\n",
            "8\n",
            "[[7 2 1 5 4]\n",
            " [4 5 7 3 6]\n",
            " [4 3 7 6 1]]\n"
          ]
        }
      ]
    },
    {
      "cell_type": "code",
      "source": [
        "np.random.seed(2)\n",
        "print(np.random.rand())\n",
        "print(np.random.rand(3))\n",
        "print(np.random.randint(10))\n",
        "print(np.random.randint(10,size=(3,5)))"
      ],
      "metadata": {
        "colab": {
          "base_uri": "https://localhost:8080/"
        },
        "id": "gPVFMbaeX86M",
        "outputId": "016d2895-f614-4fc2-abbb-5f4f7b3a6269"
      },
      "execution_count": null,
      "outputs": [
        {
          "output_type": "stream",
          "name": "stdout",
          "text": [
            "0.43599490214200376\n",
            "[0.02592623 0.54966248 0.43532239]\n",
            "8\n",
            "[[7 2 1 5 4]\n",
            " [4 5 7 3 6]\n",
            " [4 3 7 6 1]]\n"
          ]
        }
      ]
    }
  ]
}