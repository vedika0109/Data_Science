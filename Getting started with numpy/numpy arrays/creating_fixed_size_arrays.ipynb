{
  "nbformat": 4,
  "nbformat_minor": 0,
  "metadata": {
    "colab": {
      "provenance": []
    },
    "kernelspec": {
      "name": "python3",
      "display_name": "Python 3"
    },
    "language_info": {
      "name": "python"
    }
  },
  "cells": [
    {
      "cell_type": "code",
      "execution_count": null,
      "metadata": {
        "id": "FpO46Dg7Wz1o"
      },
      "outputs": [],
      "source": [
        "import numpy as np"
      ]
    },
    {
      "cell_type": "markdown",
      "source": [
        "1.Zeroes"
      ],
      "metadata": {
        "id": "3ooONhy4ZSGv"
      }
    },
    {
      "cell_type": "code",
      "source": [
        "np.zeros(10)"
      ],
      "metadata": {
        "colab": {
          "base_uri": "https://localhost:8080/"
        },
        "id": "D3pTAJSkZWpv",
        "outputId": "dac51a25-66c1-42f9-b4bb-b71667914e8c"
      },
      "execution_count": null,
      "outputs": [
        {
          "output_type": "execute_result",
          "data": {
            "text/plain": [
              "array([0., 0., 0., 0., 0., 0., 0., 0., 0., 0.])"
            ]
          },
          "metadata": {},
          "execution_count": 4
        }
      ]
    },
    {
      "cell_type": "code",
      "source": [
        "np.zeros((2,10))"
      ],
      "metadata": {
        "colab": {
          "base_uri": "https://localhost:8080/"
        },
        "id": "bdzuC3SdZ1Nw",
        "outputId": "27741826-7e2b-4244-b2d9-a9252e91e7fb"
      },
      "execution_count": null,
      "outputs": [
        {
          "output_type": "execute_result",
          "data": {
            "text/plain": [
              "array([[0., 0., 0., 0., 0., 0., 0., 0., 0., 0.],\n",
              "       [0., 0., 0., 0., 0., 0., 0., 0., 0., 0.]])"
            ]
          },
          "metadata": {},
          "execution_count": 7
        }
      ]
    },
    {
      "cell_type": "code",
      "source": [
        "np.zeros((2,3,5), dtype=int)"
      ],
      "metadata": {
        "colab": {
          "base_uri": "https://localhost:8080/"
        },
        "id": "FDmAm7z675R1",
        "outputId": "17078b00-ecf3-450d-f4f5-c6ac4aa6dcaf"
      },
      "execution_count": null,
      "outputs": [
        {
          "output_type": "execute_result",
          "data": {
            "text/plain": [
              "array([[[0, 0, 0, 0, 0],\n",
              "        [0, 0, 0, 0, 0],\n",
              "        [0, 0, 0, 0, 0]],\n",
              "\n",
              "       [[0, 0, 0, 0, 0],\n",
              "        [0, 0, 0, 0, 0],\n",
              "        [0, 0, 0, 0, 0]]])"
            ]
          },
          "metadata": {},
          "execution_count": 8
        }
      ]
    },
    {
      "cell_type": "markdown",
      "source": [
        "2.ones"
      ],
      "metadata": {
        "id": "Ud0i6K4Z8dwz"
      }
    },
    {
      "cell_type": "code",
      "source": [
        "np.ones((5,3,2), dtype=int)"
      ],
      "metadata": {
        "colab": {
          "base_uri": "https://localhost:8080/"
        },
        "id": "ptCbHMSZ8fnU",
        "outputId": "b592cead-9c7e-462f-ed1a-4563e5caa491"
      },
      "execution_count": null,
      "outputs": [
        {
          "output_type": "execute_result",
          "data": {
            "text/plain": [
              "array([[[1, 1],\n",
              "        [1, 1],\n",
              "        [1, 1]],\n",
              "\n",
              "       [[1, 1],\n",
              "        [1, 1],\n",
              "        [1, 1]],\n",
              "\n",
              "       [[1, 1],\n",
              "        [1, 1],\n",
              "        [1, 1]],\n",
              "\n",
              "       [[1, 1],\n",
              "        [1, 1],\n",
              "        [1, 1]],\n",
              "\n",
              "       [[1, 1],\n",
              "        [1, 1],\n",
              "        [1, 1]]])"
            ]
          },
          "metadata": {},
          "execution_count": 11
        }
      ]
    },
    {
      "cell_type": "markdown",
      "source": [
        "3.Eye"
      ],
      "metadata": {
        "id": "AOSBa_Ms898V"
      }
    },
    {
      "cell_type": "code",
      "source": [
        "np.eye(3)\n",
        "np.eye(2,2)"
      ],
      "metadata": {
        "colab": {
          "base_uri": "https://localhost:8080/"
        },
        "id": "RTAD0R2s8_9I",
        "outputId": "49603a03-8970-4d6e-e2b2-ff14571f0e64"
      },
      "execution_count": null,
      "outputs": [
        {
          "output_type": "execute_result",
          "data": {
            "text/plain": [
              "array([[1., 0.],\n",
              "       [0., 1.]])"
            ]
          },
          "metadata": {},
          "execution_count": 14
        }
      ]
    },
    {
      "cell_type": "code",
      "source": [
        "np.eye(4,5)"
      ],
      "metadata": {
        "colab": {
          "base_uri": "https://localhost:8080/"
        },
        "id": "IM6yXrUX9VY5",
        "outputId": "c2a1eca8-195c-47e5-d780-50f4880718cf"
      },
      "execution_count": null,
      "outputs": [
        {
          "output_type": "execute_result",
          "data": {
            "text/plain": [
              "array([[1., 0., 0., 0., 0.],\n",
              "       [0., 1., 0., 0., 0.],\n",
              "       [0., 0., 1., 0., 0.],\n",
              "       [0., 0., 0., 1., 0.]])"
            ]
          },
          "metadata": {},
          "execution_count": 15
        }
      ]
    },
    {
      "cell_type": "code",
      "source": [
        "np.eye(4,4)"
      ],
      "metadata": {
        "colab": {
          "base_uri": "https://localhost:8080/"
        },
        "id": "FSUwoG149ZYT",
        "outputId": "aeabbcb7-f090-4cb8-b59e-31105f2a3345"
      },
      "execution_count": null,
      "outputs": [
        {
          "output_type": "execute_result",
          "data": {
            "text/plain": [
              "array([[1., 0., 0., 0.],\n",
              "       [0., 1., 0., 0.],\n",
              "       [0., 0., 1., 0.],\n",
              "       [0., 0., 0., 1.]])"
            ]
          },
          "metadata": {},
          "execution_count": 16
        }
      ]
    },
    {
      "cell_type": "markdown",
      "source": [
        "4.Random number generator"
      ],
      "metadata": {
        "id": "zqusimxM9huT"
      }
    },
    {
      "cell_type": "code",
      "source": [
        "print(np.random.rand())"
      ],
      "metadata": {
        "colab": {
          "base_uri": "https://localhost:8080/"
        },
        "id": "nu8CuEZZ9nio",
        "outputId": "4df602dd-14a2-4a62-ebe9-3c7e3f5ca22d"
      },
      "execution_count": null,
      "outputs": [
        {
          "output_type": "stream",
          "name": "stdout",
          "text": [
            "0.058357771765749966\n"
          ]
        }
      ]
    },
    {
      "cell_type": "code",
      "source": [
        "for i in range(10):\n",
        "  if(np.random.rand()>0.5):\n",
        "    print(\"Head\")\n",
        "  else:\n",
        "    print(\"Tail\")"
      ],
      "metadata": {
        "colab": {
          "base_uri": "https://localhost:8080/"
        },
        "id": "rGrg2E8X-bqN",
        "outputId": "bca775d1-d198-4620-dcaf-cd956b2c91b5"
      },
      "execution_count": null,
      "outputs": [
        {
          "output_type": "stream",
          "name": "stdout",
          "text": [
            "Tail\n",
            "Head\n",
            "Tail\n",
            "Head\n",
            "Tail\n",
            "Tail\n",
            "Tail\n",
            "Tail\n",
            "Head\n",
            "Head\n"
          ]
        }
      ]
    },
    {
      "cell_type": "code",
      "source": [
        "print(np.random.rand(10))"
      ],
      "metadata": {
        "colab": {
          "base_uri": "https://localhost:8080/"
        },
        "id": "4VRzyrX2-8Nw",
        "outputId": "873548c5-4d39-4d05-d17c-50f44c256b94"
      },
      "execution_count": null,
      "outputs": [
        {
          "output_type": "stream",
          "name": "stdout",
          "text": [
            "[0.54043441 0.68800026 0.75154268 0.20256139 0.09792307 0.37316785\n",
            " 0.12416261 0.69579271 0.68030713 0.29256659]\n"
          ]
        }
      ]
    },
    {
      "cell_type": "code",
      "source": [
        "print(np.random.rand(10,10))"
      ],
      "metadata": {
        "colab": {
          "base_uri": "https://localhost:8080/"
        },
        "id": "mgg_OiBc_GxB",
        "outputId": "7d81e2fb-95bb-4620-96f1-5da626dcfcc3"
      },
      "execution_count": null,
      "outputs": [
        {
          "output_type": "stream",
          "name": "stdout",
          "text": [
            "[[0.2641809  0.86515775 0.27066786 0.74798698 0.65049544 0.37258899\n",
            "  0.09118556 0.51006741 0.73251823 0.48988901]\n",
            " [0.11874641 0.13438662 0.99337588 0.65906556 0.74075867 0.05386234\n",
            "  0.41187391 0.01448968 0.69881243 0.98085969]\n",
            " [0.30625222 0.03797484 0.12566241 0.75868668 0.1121893  0.2934444\n",
            "  0.94927039 0.58893478 0.41380065 0.38581857]\n",
            " [0.53983104 0.36760308 0.3401473  0.42823212 0.82872967 0.22078985\n",
            "  0.80119721 0.89705301 0.67763595 0.75863547]\n",
            " [0.60369621 0.97849292 0.24844186 0.11722323 0.03523013 0.88859251\n",
            "  0.14439708 0.28059323 0.07482233 0.1800562 ]\n",
            " [0.89888405 0.03782437 0.77908013 0.00105556 0.92942535 0.16599322\n",
            "  0.9447555  0.0041525  0.9172094  0.78153116]\n",
            " [0.85029347 0.36189059 0.99696952 0.25761037 0.30420603 0.24729461\n",
            "  0.58515811 0.41484495 0.66382892 0.60552505]\n",
            " [0.24292275 0.34658586 0.47493798 0.22974757 0.14442748 0.107411\n",
            "  0.04429087 0.90748375 0.84005383 0.70172899]\n",
            " [0.27599643 0.42301438 0.03612615 0.07703902 0.1958844  0.20716934\n",
            "  0.10104083 0.67164635 0.8882437  0.89565344]\n",
            " [0.89439675 0.53600544 0.92881294 0.88166564 0.34335359 0.82363019\n",
            "  0.40902369 0.10953777 0.93176467 0.59259617]]\n"
          ]
        }
      ]
    },
    {
      "cell_type": "code",
      "source": [
        "np.random.randint(10,size=(3,3))"
      ],
      "metadata": {
        "colab": {
          "base_uri": "https://localhost:8080/"
        },
        "id": "-HXD7nFA_aVR",
        "outputId": "9c434823-549d-49a2-e357-111116c2dd90"
      },
      "execution_count": null,
      "outputs": [
        {
          "output_type": "execute_result",
          "data": {
            "text/plain": [
              "array([[0, 3, 1],\n",
              "       [4, 9, 5],\n",
              "       [1, 9, 3]])"
            ]
          },
          "metadata": {},
          "execution_count": 22
        }
      ]
    },
    {
      "cell_type": "code",
      "source": [
        "np.random.randint(low=1,high=7,size=(3,3))"
      ],
      "metadata": {
        "colab": {
          "base_uri": "https://localhost:8080/"
        },
        "id": "jh1KcGRi_xVe",
        "outputId": "421c6d10-34ab-44fe-81d8-61830620a204"
      },
      "execution_count": null,
      "outputs": [
        {
          "output_type": "execute_result",
          "data": {
            "text/plain": [
              "array([[5, 6, 6],\n",
              "       [2, 6, 5],\n",
              "       [3, 4, 1]])"
            ]
          },
          "metadata": {},
          "execution_count": 23
        }
      ]
    },
    {
      "cell_type": "code",
      "source": [
        "np.random.randn()"
      ],
      "metadata": {
        "colab": {
          "base_uri": "https://localhost:8080/"
        },
        "id": "TiHt2MhmFIKr",
        "outputId": "e6c7a85a-f319-4ec3-a66e-68e36863e837"
      },
      "execution_count": null,
      "outputs": [
        {
          "output_type": "execute_result",
          "data": {
            "text/plain": [
              "0.3939357336791806"
            ]
          },
          "metadata": {},
          "execution_count": 24
        }
      ]
    },
    {
      "cell_type": "code",
      "source": [
        "np.random.uniform()"
      ],
      "metadata": {
        "colab": {
          "base_uri": "https://localhost:8080/"
        },
        "id": "WW9CgY4uGcBL",
        "outputId": "192131f7-a426-4b3e-c1cd-6b204f127e5f"
      },
      "execution_count": null,
      "outputs": [
        {
          "output_type": "execute_result",
          "data": {
            "text/plain": [
              "0.26423891534899546"
            ]
          },
          "metadata": {},
          "execution_count": 25
        }
      ]
    },
    {
      "cell_type": "code",
      "source": [
        "for i in range(10):\n",
        "  print(np.random.randint(low=1,high=7))"
      ],
      "metadata": {
        "colab": {
          "base_uri": "https://localhost:8080/"
        },
        "id": "JdX8OJIGKcHE",
        "outputId": "7a1bfeac-a502-4b4c-c390-ed86ca03689a"
      },
      "execution_count": null,
      "outputs": [
        {
          "output_type": "stream",
          "name": "stdout",
          "text": [
            "3\n",
            "3\n",
            "5\n",
            "2\n",
            "2\n",
            "6\n",
            "3\n",
            "2\n",
            "5\n",
            "5\n"
          ]
        }
      ]
    }
  ]
}