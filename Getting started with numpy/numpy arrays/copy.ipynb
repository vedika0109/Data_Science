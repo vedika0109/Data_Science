{
  "nbformat": 4,
  "nbformat_minor": 0,
  "metadata": {
    "colab": {
      "provenance": []
    },
    "kernelspec": {
      "name": "python3",
      "display_name": "Python 3"
    },
    "language_info": {
      "name": "python"
    }
  },
  "cells": [
    {
      "cell_type": "code",
      "execution_count": null,
      "metadata": {
        "id": "FBfp7Dqp7Iv1"
      },
      "outputs": [],
      "source": [
        "import numpy as np"
      ]
    },
    {
      "cell_type": "markdown",
      "source": [
        "1.Copy function with lists"
      ],
      "metadata": {
        "id": "JaOY_PXw7Q2_"
      }
    },
    {
      "cell_type": "code",
      "source": [
        "lst=[1,2,3,4,5]\n",
        "print(lst)\n",
        "lst1=lst\n",
        "\n",
        "print(lst1)\n",
        "print('-'*10)\n",
        "lst[0]=5\n",
        "print(lst)\n",
        "print(lst1)\n",
        "lst1[0]=4\n",
        "print(lst)\n",
        "print(lst1)\n"
      ],
      "metadata": {
        "colab": {
          "base_uri": "https://localhost:8080/"
        },
        "id": "heb4ziPG7nBd",
        "outputId": "d0ba023d-de5a-4649-8e4c-932793e7a6de"
      },
      "execution_count": null,
      "outputs": [
        {
          "output_type": "stream",
          "name": "stdout",
          "text": [
            "[1, 2, 3, 4, 5]\n",
            "[1, 2, 3, 4, 5]\n",
            "----------\n",
            "[5, 2, 3, 4, 5]\n",
            "[5, 2, 3, 4, 5]\n",
            "[4, 2, 3, 4, 5]\n",
            "[4, 2, 3, 4, 5]\n"
          ]
        }
      ]
    },
    {
      "cell_type": "code",
      "source": [
        "lst=[1,2,3,4]\n",
        "print(lst)\n",
        "lst1=lst.copy()\n",
        "print(lst1)\n",
        "print('*'*20)\n",
        "lst[0]=5\n",
        "print(lst)\n",
        "print(lst1)\n",
        "lst1[0]=4\n",
        "print(lst)\n",
        "print(lst1)\n"
      ],
      "metadata": {
        "colab": {
          "base_uri": "https://localhost:8080/"
        },
        "id": "OmjH5-Oa85aG",
        "outputId": "a6e1b8ff-9ca9-4d90-ada4-8c25cbb5f88f"
      },
      "execution_count": null,
      "outputs": [
        {
          "output_type": "stream",
          "name": "stdout",
          "text": [
            "[1, 2, 3, 4]\n",
            "[1, 2, 3, 4]\n",
            "********************\n",
            "[5, 2, 3, 4]\n",
            "[1, 2, 3, 4]\n",
            "[5, 2, 3, 4]\n",
            "[4, 2, 3, 4]\n"
          ]
        }
      ]
    },
    {
      "cell_type": "markdown",
      "source": [
        "2)copy function with arrays"
      ],
      "metadata": {
        "id": "7PEj1C3e-Czd"
      }
    },
    {
      "cell_type": "code",
      "source": [
        "arr=np.array([1,2,3,4])\n",
        "arr_=arr.copy()\n",
        "print(arr)\n",
        "print(arr_)\n",
        "print('-------------------------------')\n",
        "arr[0]=5\n",
        "print(arr)\n",
        "print(arr_)\n",
        "arr_[0]=6\n",
        "print(arr)\n",
        "print(arr_)"
      ],
      "metadata": {
        "colab": {
          "base_uri": "https://localhost:8080/"
        },
        "id": "PqFgs47A-Iq6",
        "outputId": "88bb86a8-cdd1-4ab3-b5e9-1af055ef105b"
      },
      "execution_count": null,
      "outputs": [
        {
          "output_type": "stream",
          "name": "stdout",
          "text": [
            "[1 2 3 4]\n",
            "[1 2 3 4]\n",
            "-------------------------------\n",
            "[5 2 3 4]\n",
            "[1 2 3 4]\n",
            "[5 2 3 4]\n",
            "[6 2 3 4]\n"
          ]
        }
      ]
    }
  ]
}