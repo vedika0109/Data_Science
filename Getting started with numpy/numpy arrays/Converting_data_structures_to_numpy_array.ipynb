{
  "nbformat": 4,
  "nbformat_minor": 0,
  "metadata": {
    "colab": {
      "provenance": []
    },
    "kernelspec": {
      "name": "python3",
      "display_name": "Python 3"
    },
    "language_info": {
      "name": "python"
    }
  },
  "cells": [
    {
      "cell_type": "code",
      "execution_count": null,
      "metadata": {
        "id": "YPC_IQD3TLrS"
      },
      "outputs": [],
      "source": [
        "import numpy as np"
      ]
    },
    {
      "cell_type": "markdown",
      "source": [
        "1.Converting data structures to Numpy array"
      ],
      "metadata": {
        "id": "Ji4KGF8UTcLL"
      }
    },
    {
      "cell_type": "markdown",
      "source": [
        "1.1)Converting a tuple to an array\n"
      ],
      "metadata": {
        "id": "9wucRtY_UFng"
      }
    },
    {
      "cell_type": "code",
      "source": [
        "tpl=(1,2,3)\n",
        "print(tpl)\n",
        "print(type(tpl))\n",
        "arr=np.array(tpl)\n",
        "print(arr)\n",
        "print(type(arr))\n"
      ],
      "metadata": {
        "colab": {
          "base_uri": "https://localhost:8080/"
        },
        "id": "dC-WP2cYTikD",
        "outputId": "c94a9d56-f0cf-41d5-830d-fa7cc3f2ab7b"
      },
      "execution_count": null,
      "outputs": [
        {
          "output_type": "stream",
          "name": "stdout",
          "text": [
            "(1, 2, 3)\n",
            "<class 'tuple'>\n",
            "[1 2 3]\n",
            "<class 'numpy.ndarray'>\n"
          ]
        }
      ]
    },
    {
      "cell_type": "markdown",
      "source": [
        "1.2)Converting a list to an array"
      ],
      "metadata": {
        "id": "LRdjtVOrUOfz"
      }
    },
    {
      "cell_type": "code",
      "source": [
        "lst=(1,2,3)\n",
        "print(lst)\n",
        "print(type(lst))\n",
        "arr=np.array(lst)\n",
        "print(arr)\n",
        "print(type(arr))"
      ],
      "metadata": {
        "colab": {
          "base_uri": "https://localhost:8080/"
        },
        "id": "8u0tzLxeUS5M",
        "outputId": "da803d89-94a4-4943-f76f-d10597d8ff0e"
      },
      "execution_count": null,
      "outputs": [
        {
          "output_type": "stream",
          "name": "stdout",
          "text": [
            "(1, 2, 3)\n",
            "<class 'tuple'>\n",
            "[1 2 3]\n",
            "<class 'numpy.ndarray'>\n"
          ]
        }
      ]
    },
    {
      "cell_type": "markdown",
      "source": [
        "1.3)Converting a dictionary to an array"
      ],
      "metadata": {
        "id": "Y5CeB4e5UuEB"
      }
    },
    {
      "cell_type": "code",
      "source": [
        "dct={1:'apple',2:'banana',3:'cheery'}\n",
        "print(dct)\n",
        "print(type(dct))\n",
        "arr=np.array(dct)\n",
        "print(arr)\n",
        "print(type(arr))\n",
        "print('-----------')\n",
        "arr_k=np.array(list(dct.keys()))\n",
        "arr_v=np.array(list(dct.values()))\n",
        "print(arr_k)\n",
        "print(type(arr_k))\n",
        "print(arr_v)\n",
        "print(type(arr_v))\n"
      ],
      "metadata": {
        "colab": {
          "base_uri": "https://localhost:8080/"
        },
        "id": "dZWDusa0U9C3",
        "outputId": "fd4de195-63ab-4827-a675-b352dd098e6a"
      },
      "execution_count": null,
      "outputs": [
        {
          "output_type": "stream",
          "name": "stdout",
          "text": [
            "{1: 'apple', 2: 'banana', 3: 'cheery'}\n",
            "<class 'dict'>\n",
            "{1: 'apple', 2: 'banana', 3: 'cheery'}\n",
            "<class 'numpy.ndarray'>\n",
            "-----------\n",
            "[1 2 3]\n",
            "<class 'numpy.ndarray'>\n",
            "['apple' 'banana' 'cheery']\n",
            "<class 'numpy.ndarray'>\n"
          ]
        }
      ]
    },
    {
      "cell_type": "markdown",
      "source": [
        "1.4)Converting a set to an array"
      ],
      "metadata": {
        "id": "uYOcTQH6dl4j"
      }
    },
    {
      "cell_type": "code",
      "source": [
        "set_={1,2,3}\n",
        "print(set_)\n",
        "print(type(set_))\n",
        "arr=np.array(list(set_))\n",
        "print(arr)\n",
        "print(type(arr))"
      ],
      "metadata": {
        "colab": {
          "base_uri": "https://localhost:8080/"
        },
        "id": "8DzvNLnEd4za",
        "outputId": "b3d7f0de-9d90-4bf0-fcf4-9245b2fcdcf7"
      },
      "execution_count": null,
      "outputs": [
        {
          "output_type": "stream",
          "name": "stdout",
          "text": [
            "{1, 2, 3}\n",
            "<class 'set'>\n",
            "[1 2 3]\n",
            "<class 'numpy.ndarray'>\n"
          ]
        }
      ]
    },
    {
      "cell_type": "markdown",
      "source": [
        "1.5)Converting string to an array"
      ],
      "metadata": {
        "id": "uhd0M5_aeRBJ"
      }
    },
    {
      "cell_type": "code",
      "source": [
        "arr=np.array('hello world')\n",
        "print(arr)\n",
        "print(type(arr))\n",
        "arr=np.array(list('hello world'))\n",
        "print(arr)\n",
        "print(type(arr))"
      ],
      "metadata": {
        "colab": {
          "base_uri": "https://localhost:8080/"
        },
        "id": "DxRMRNSleVvO",
        "outputId": "82f57ca6-0b62-49b9-e0f3-69f46600e59a"
      },
      "execution_count": null,
      "outputs": [
        {
          "output_type": "stream",
          "name": "stdout",
          "text": [
            "hello world\n",
            "<class 'numpy.ndarray'>\n",
            "['h' 'e' 'l' 'l' 'o' ' ' 'w' 'o' 'r' 'l' 'd']\n",
            "<class 'numpy.ndarray'>\n"
          ]
        }
      ]
    },
    {
      "cell_type": "markdown",
      "source": [
        "2.Converting the datatype of numpy array"
      ],
      "metadata": {
        "id": "TN99x9M-et1P"
      }
    },
    {
      "cell_type": "markdown",
      "source": [
        "2.1)Create an array of integers"
      ],
      "metadata": {
        "id": "CCWqf3BOe_ZT"
      }
    },
    {
      "cell_type": "code",
      "source": [
        "arr=np.array([1,2,3,4,5])\n",
        "print(arr)\n",
        "arr_=arr.astype('float')\n",
        "print(arr_)\n",
        "arr_=arr.astype('str')\n",
        "print(arr_)\n",
        "arr_=arr.astype('bool')\n",
        "print(arr_)"
      ],
      "metadata": {
        "colab": {
          "base_uri": "https://localhost:8080/"
        },
        "id": "ztGLFsuafyTt",
        "outputId": "b3943f36-f81b-4638-ed2b-7af0ba337481"
      },
      "execution_count": null,
      "outputs": [
        {
          "output_type": "stream",
          "name": "stdout",
          "text": [
            "[1 2 3 4 5]\n",
            "[1. 2. 3. 4. 5.]\n",
            "['1' '2' '3' '4' '5']\n",
            "[ True  True  True  True  True]\n"
          ]
        }
      ]
    },
    {
      "cell_type": "markdown",
      "source": [
        "2.2)Create an array of floats"
      ],
      "metadata": {
        "id": "8J7OonZwgQ8z"
      }
    },
    {
      "cell_type": "code",
      "source": [
        "arr=np.array([1.,2.,3.,4.,5.])\n",
        "print(arr)\n",
        "arr_=arr.astype('int')\n",
        "print(arr_)\n",
        "arr_=arr.astype('str')\n",
        "print(arr_)\n",
        "arr_=arr.astype('bool')\n",
        "print(arr_)\n"
      ],
      "metadata": {
        "colab": {
          "base_uri": "https://localhost:8080/"
        },
        "id": "aTcnherqgXT_",
        "outputId": "a4d8e123-bacf-4425-833f-e257403d2873"
      },
      "execution_count": null,
      "outputs": [
        {
          "output_type": "stream",
          "name": "stdout",
          "text": [
            "[1. 2. 3. 4. 5.]\n",
            "[1 2 3 4 5]\n",
            "['1.0' '2.0' '3.0' '4.0' '5.0']\n",
            "[ True  True  True  True  True]\n"
          ]
        }
      ]
    },
    {
      "cell_type": "markdown",
      "source": [
        "2.3)Create an array of string"
      ],
      "metadata": {
        "id": "qyP6u0U7gwj6"
      }
    },
    {
      "cell_type": "code",
      "source": [
        "arr=np.array(['1','2','3','4','5'])\n",
        "print(arr)\n",
        "arr_=arr.astype('int')\n",
        "print(arr_)\n",
        "arr_=arr.astype('float')\n",
        "print(arr_)\n",
        "arr_=arr.astype('bool')\n",
        "print(arr_)\n"
      ],
      "metadata": {
        "colab": {
          "base_uri": "https://localhost:8080/"
        },
        "id": "MJh3pl5Ge2__",
        "outputId": "313153c6-7dcf-40c1-90cc-d648db525abf"
      },
      "execution_count": null,
      "outputs": [
        {
          "output_type": "stream",
          "name": "stdout",
          "text": [
            "['1' '2' '3' '4' '5']\n",
            "[1 2 3 4 5]\n",
            "[1. 2. 3. 4. 5.]\n",
            "[ True  True  True  True  True]\n"
          ]
        }
      ]
    },
    {
      "cell_type": "markdown",
      "source": [
        "2.4)Create an array of Boolean"
      ],
      "metadata": {
        "id": "E0RjtJkLhYyd"
      }
    },
    {
      "cell_type": "code",
      "source": [
        "arr=np.array([True,False,False,False,True])\n",
        "print(arr)\n",
        "arr_=arr.astype('int')\n",
        "print(arr_)\n",
        "arr_=arr.astype('float')\n",
        "print(arr_)\n",
        "arr_=arr.astype('str')\n",
        "print(arr_)"
      ],
      "metadata": {
        "colab": {
          "base_uri": "https://localhost:8080/"
        },
        "id": "TuP-72FRhd6t",
        "outputId": "9b60e0ab-6899-4f35-93fd-639116ef278f"
      },
      "execution_count": null,
      "outputs": [
        {
          "output_type": "stream",
          "name": "stdout",
          "text": [
            "[ True False False False  True]\n",
            "[1 0 0 0 1]\n",
            "[1. 0. 0. 0. 1.]\n",
            "['True' 'False' 'False' 'False' 'True']\n"
          ]
        }
      ]
    },
    {
      "cell_type": "code",
      "source": [
        "arr=np.array([True,False,False,False,True])\n",
        "print(arr)\n",
        "arr_=arr.astype('int')\n",
        "print(arr_)\n",
        "arr_=arr_.astype('float')\n",
        "print(arr_)"
      ],
      "metadata": {
        "colab": {
          "base_uri": "https://localhost:8080/"
        },
        "id": "rBy_geElh4W8",
        "outputId": "5d8d363e-28b2-4fce-89d0-a5a370389644"
      },
      "execution_count": null,
      "outputs": [
        {
          "output_type": "stream",
          "name": "stdout",
          "text": [
            "[ True False False False  True]\n",
            "[1 0 0 0 1]\n",
            "[1. 0. 0. 0. 1.]\n"
          ]
        }
      ]
    },
    {
      "cell_type": "code",
      "source": [
        "arr=np.array([True,False,False,False,True])\n",
        "print(arr)\n",
        "arr_=arr.astype('float')\n",
        "print(arr_)\n",
        "arr_=arr_.astype('str')\n",
        "print(arr_)"
      ],
      "metadata": {
        "id": "pymMbybgiKwy",
        "outputId": "23abc122-6031-45fa-dec7-44369c1656a9",
        "colab": {
          "base_uri": "https://localhost:8080/"
        }
      },
      "execution_count": null,
      "outputs": [
        {
          "output_type": "stream",
          "name": "stdout",
          "text": [
            "[ True False False False  True]\n",
            "[1. 0. 0. 0. 1.]\n",
            "['1.0' '0.0' '0.0' '0.0' '1.0']\n"
          ]
        }
      ]
    }
  ]
}