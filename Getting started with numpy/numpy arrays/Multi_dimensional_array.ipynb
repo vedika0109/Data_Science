{
  "nbformat": 4,
  "nbformat_minor": 0,
  "metadata": {
    "colab": {
      "provenance": []
    },
    "kernelspec": {
      "name": "python3",
      "display_name": "Python 3"
    },
    "language_info": {
      "name": "python"
    }
  },
  "cells": [
    {
      "cell_type": "code",
      "execution_count": null,
      "metadata": {
        "id": "-3l7c62ovNnG"
      },
      "outputs": [],
      "source": [
        "import numpy as np"
      ]
    },
    {
      "cell_type": "markdown",
      "source": [
        "1.Creating multi-dimensional arrays"
      ],
      "metadata": {
        "id": "oCyJw4lQvaXJ"
      }
    },
    {
      "cell_type": "markdown",
      "source": [
        "1.1)Create a 2D array from a list of lists"
      ],
      "metadata": {
        "id": "_LpucoiwvhE9"
      }
    },
    {
      "cell_type": "code",
      "source": [
        "arr=np.array([[1,2,3],[4,5,6]])\n",
        "print(arr)"
      ],
      "metadata": {
        "colab": {
          "base_uri": "https://localhost:8080/"
        },
        "id": "kayEN4kIvn6a",
        "outputId": "8078a716-31c5-418f-c5d6-5c311654cb56"
      },
      "execution_count": null,
      "outputs": [
        {
          "output_type": "stream",
          "name": "stdout",
          "text": [
            "[[1 2 3]\n",
            " [4 5 6]]\n"
          ]
        }
      ]
    },
    {
      "cell_type": "markdown",
      "source": [
        "1.2)Create a 3D array from a list of lists"
      ],
      "metadata": {
        "id": "l_BfBH1fv64a"
      }
    },
    {
      "cell_type": "code",
      "source": [
        "arr=np.array([[[1,2,3],[4,5,6],[7,8,9]],\n",
        "              [[1,2,3],[4,5,6],[7,8,9]],\n",
        "              [[1,2,3],[4,5,6],[7,8,9]]])\n",
        "print(arr)"
      ],
      "metadata": {
        "colab": {
          "base_uri": "https://localhost:8080/"
        },
        "id": "sqgVi1quwA-I",
        "outputId": "5c4a4c85-c8dd-423b-c7c3-289e4364e20d"
      },
      "execution_count": null,
      "outputs": [
        {
          "output_type": "stream",
          "name": "stdout",
          "text": [
            "[[[1 2 3]\n",
            "  [4 5 6]\n",
            "  [7 8 9]]\n",
            "\n",
            " [[1 2 3]\n",
            "  [4 5 6]\n",
            "  [7 8 9]]\n",
            "\n",
            " [[1 2 3]\n",
            "  [4 5 6]\n",
            "  [7 8 9]]]\n"
          ]
        }
      ]
    },
    {
      "cell_type": "markdown",
      "source": [
        "1.3)Create a 2D array from a list of tuples"
      ],
      "metadata": {
        "id": "eY0fATW1wxzS"
      }
    },
    {
      "cell_type": "code",
      "source": [
        "arr=np.array([(1,2,3),(4,5,6)])\n",
        "print(arr)"
      ],
      "metadata": {
        "colab": {
          "base_uri": "https://localhost:8080/"
        },
        "id": "lKpxPr-Ww4rG",
        "outputId": "fd3060a5-5367-432d-9f8f-8af59f57eac1"
      },
      "execution_count": null,
      "outputs": [
        {
          "output_type": "stream",
          "name": "stdout",
          "text": [
            "[[1 2 3]\n",
            " [4 5 6]]\n"
          ]
        }
      ]
    },
    {
      "cell_type": "markdown",
      "source": [
        "1.3)Create a 2D array from a list of arrays"
      ],
      "metadata": {
        "id": "_tmBfu7SyH3o"
      }
    },
    {
      "cell_type": "code",
      "source": [
        "arr=np.array([np.array([1,2,3]), np.array([4,5,6])])\n",
        "print(arr)"
      ],
      "metadata": {
        "colab": {
          "base_uri": "https://localhost:8080/"
        },
        "id": "z5CH4cpEyU_w",
        "outputId": "96375772-2166-44d1-fcfa-cdaa871cd94c"
      },
      "execution_count": null,
      "outputs": [
        {
          "output_type": "stream",
          "name": "stdout",
          "text": [
            "[[1 2 3]\n",
            " [4 5 6]]\n"
          ]
        }
      ]
    },
    {
      "cell_type": "markdown",
      "source": [
        "1.3)Create a 2D array from a list of strings"
      ],
      "metadata": {
        "id": "RaLThy9MzH5h"
      }
    },
    {
      "cell_type": "code",
      "source": [
        "arr=np.array([['1','2','3'],['5','6','7']])\n",
        "print(arr)"
      ],
      "metadata": {
        "colab": {
          "base_uri": "https://localhost:8080/"
        },
        "id": "DV-hPCMizNGM",
        "outputId": "526cc3d2-7cd1-4e36-f64c-930811c3c964"
      },
      "execution_count": null,
      "outputs": [
        {
          "output_type": "stream",
          "name": "stdout",
          "text": [
            "[['1' '2' '3']\n",
            " ['5' '6' '7']]\n"
          ]
        }
      ]
    },
    {
      "cell_type": "markdown",
      "source": [
        "1.4)Create a 2D array from a list of dictionaries"
      ],
      "metadata": {
        "id": "TuZ7XkAPz8ic"
      }
    },
    {
      "cell_type": "code",
      "source": [
        "arr=np.array([{1:'a',2:'b',3:'c'},{4:'d',5:'e',6:'f'}])\n",
        "print(arr)"
      ],
      "metadata": {
        "colab": {
          "base_uri": "https://localhost:8080/"
        },
        "id": "4u3YW_aV0CMK",
        "outputId": "f3a223e1-795c-429e-ed26-44afec30e648"
      },
      "execution_count": null,
      "outputs": [
        {
          "output_type": "stream",
          "name": "stdout",
          "text": [
            "[{1: 'a', 2: 'b', 3: 'c'} {4: 'd', 5: 'e', 6: 'f'}]\n"
          ]
        }
      ]
    },
    {
      "cell_type": "markdown",
      "source": [
        "2.Finding details of an array"
      ],
      "metadata": {
        "id": "XZd54ehf1pOT"
      }
    },
    {
      "cell_type": "markdown",
      "source": [
        "2.1)printing the shape of array"
      ],
      "metadata": {
        "id": "hIkDnpu81_Td"
      }
    },
    {
      "cell_type": "markdown",
      "source": [
        "\n",
        "\n",
        "```\n",
        "# `# This is formatted as code`\n",
        "```\n",
        "\n"
      ],
      "metadata": {
        "id": "eJoX5i941564"
      }
    },
    {
      "cell_type": "code",
      "source": [
        "arr=np.array([[1,2,3],[4,5,6]])\n",
        "print(arr.shape)"
      ],
      "metadata": {
        "colab": {
          "base_uri": "https://localhost:8080/"
        },
        "id": "fhfPBW6G1u3L",
        "outputId": "b9a3a4a1-a276-4c54-ff09-b6bfddc5f771"
      },
      "execution_count": null,
      "outputs": [
        {
          "output_type": "stream",
          "name": "stdout",
          "text": [
            "(2, 3)\n"
          ]
        }
      ]
    },
    {
      "cell_type": "markdown",
      "source": [
        "2.2)printing the dimensions of array"
      ],
      "metadata": {
        "id": "b9baukAz2bA1"
      }
    },
    {
      "cell_type": "code",
      "source": [
        "arr=np.array([[1,2,3],[4,5,6],[7,8,9]])\n",
        "print(arr.ndim)"
      ],
      "metadata": {
        "colab": {
          "base_uri": "https://localhost:8080/"
        },
        "id": "t7H1qdXB2i9d",
        "outputId": "ed704e75-68b8-4824-eb20-6321217ce581"
      },
      "execution_count": null,
      "outputs": [
        {
          "output_type": "stream",
          "name": "stdout",
          "text": [
            "2\n"
          ]
        }
      ]
    },
    {
      "cell_type": "markdown",
      "source": [
        "2.3)printing the data type of array"
      ],
      "metadata": {
        "id": "Yym-E3gu2-pZ"
      }
    },
    {
      "cell_type": "code",
      "source": [
        "arr=np.array([[1,2,3],[4,5,6],[7,8,9]])\n",
        "print(arr.dtype)"
      ],
      "metadata": {
        "colab": {
          "base_uri": "https://localhost:8080/"
        },
        "id": "mB7SXqj63DrD",
        "outputId": "320f6df6-498f-4b00-9b96-2af76c344c97"
      },
      "execution_count": null,
      "outputs": [
        {
          "output_type": "stream",
          "name": "stdout",
          "text": [
            "int64\n"
          ]
        }
      ]
    },
    {
      "cell_type": "markdown",
      "source": [
        "2.4)printing the size of array in bytes"
      ],
      "metadata": {
        "id": "JvlWmVqX3LUV"
      }
    },
    {
      "cell_type": "code",
      "source": [],
      "metadata": {
        "id": "SF_cnrUp3UNO"
      },
      "execution_count": null,
      "outputs": []
    },
    {
      "cell_type": "code",
      "source": [
        "arr=np.array([[1,2,3],[4,5,6],[7,8,9]])\n",
        "print(arr.size)"
      ],
      "metadata": {
        "colab": {
          "base_uri": "https://localhost:8080/"
        },
        "outputId": "52554e13-78cf-4210-daa8-e006ebc9c90b",
        "id": "IpW_SmJZ3W2N"
      },
      "execution_count": null,
      "outputs": [
        {
          "output_type": "stream",
          "name": "stdout",
          "text": [
            "9\n"
          ]
        }
      ]
    },
    {
      "cell_type": "markdown",
      "source": [
        "2.5)printing the total number of elements in an array(length of one element of array in bytes)"
      ],
      "metadata": {
        "id": "eg_0CIPM3jgG"
      }
    },
    {
      "cell_type": "code",
      "source": [
        "arr=np.array([[1,2,3],[4,5,6],[7,8,9]])\n",
        "print(arr.itemsize)"
      ],
      "metadata": {
        "colab": {
          "base_uri": "https://localhost:8080/"
        },
        "id": "n7c508XC3tek",
        "outputId": "f804c53b-f324-4455-c972-38c6a9edfcbb"
      },
      "execution_count": null,
      "outputs": [
        {
          "output_type": "stream",
          "name": "stdout",
          "text": [
            "8\n"
          ]
        }
      ]
    },
    {
      "cell_type": "markdown",
      "source": [
        "2.6)print the type of array"
      ],
      "metadata": {
        "id": "QbiZSsEf4p2Y"
      }
    },
    {
      "cell_type": "code",
      "source": [
        "print(type(arr))"
      ],
      "metadata": {
        "colab": {
          "base_uri": "https://localhost:8080/"
        },
        "id": "qIajlayS4w4G",
        "outputId": "ef204f93-a296-4858-95d7-fd7c99312566"
      },
      "execution_count": null,
      "outputs": [
        {
          "output_type": "stream",
          "name": "stdout",
          "text": [
            "<class 'numpy.ndarray'>\n"
          ]
        }
      ]
    }
  ]
}